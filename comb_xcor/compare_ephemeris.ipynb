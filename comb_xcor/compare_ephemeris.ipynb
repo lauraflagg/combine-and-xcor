{
 "cells": [
  {
   "cell_type": "markdown",
   "id": "d11efd01",
   "metadata": {
    "toc": true
   },
   "source": [
    "<h1>Table of Contents<span class=\"tocSkip\"></span></h1>\n",
    "<div class=\"toc\"><ul class=\"toc-item\"></ul></div>"
   ]
  },
  {
   "cell_type": "code",
   "execution_count": 1,
   "id": "85e19be3",
   "metadata": {
    "ExecuteTime": {
     "end_time": "2022-08-09T19:09:55.597598Z",
     "start_time": "2022-08-09T19:09:55.130920Z"
    }
   },
   "outputs": [],
   "source": [
    "%load_ext autoreload\n",
    "%autoreload 2\n",
    "import numpy as np\n",
    "import matplotlib.pyplot as plt\n",
    "%matplotlib inline\n",
    "plt.rcParams['figure.figsize'] = (16, 5)\n",
    "plt.rcParams.update({'errorbar.capsize': 3})\n",
    "plt.rcParams['xtick.labelsize']= 13\n",
    "plt.rcParams['ytick.labelsize']= 13\n",
    "plt.rcParams.update({'axes.labelsize': 16})"
   ]
  },
  {
   "cell_type": "code",
   "execution_count": 2,
   "id": "431ade92",
   "metadata": {
    "ExecuteTime": {
     "end_time": "2022-08-09T19:09:55.814716Z",
     "start_time": "2022-08-09T19:09:55.599111Z"
    }
   },
   "outputs": [],
   "source": [
    "from astropy import time"
   ]
  },
  {
   "cell_type": "code",
   "execution_count": 3,
   "id": "743498d7",
   "metadata": {
    "ExecuteTime": {
     "end_time": "2022-08-09T19:09:56.479315Z",
     "start_time": "2022-08-09T19:09:55.815532Z"
    }
   },
   "outputs": [],
   "source": [
    "from astroquery.ipac.nexsci.nasa_exoplanet_archive import NasaExoplanetArchive"
   ]
  },
  {
   "cell_type": "code",
   "execution_count": 4,
   "id": "bd7bb3f0",
   "metadata": {
    "ExecuteTime": {
     "end_time": "2022-08-09T19:09:56.504813Z",
     "start_time": "2022-08-09T19:09:56.481099Z"
    }
   },
   "outputs": [],
   "source": [
    "transit_date=time.Time(['2022-03-06T00:00:00',], format='isot', scale='utc').jd"
   ]
  },
  {
   "cell_type": "code",
   "execution_count": 5,
   "id": "b3fef565",
   "metadata": {
    "ExecuteTime": {
     "end_time": "2022-08-09T19:09:56.524967Z",
     "start_time": "2022-08-09T19:09:56.505894Z"
    }
   },
   "outputs": [
    {
     "data": {
      "text/plain": [
       "array([2459644.5])"
      ]
     },
     "execution_count": 5,
     "metadata": {},
     "output_type": "execute_result"
    }
   ],
   "source": [
    "transit_date"
   ]
  },
  {
   "cell_type": "code",
   "execution_count": 6,
   "id": "0bd4ac2e",
   "metadata": {
    "ExecuteTime": {
     "end_time": "2022-08-09T19:10:00.721958Z",
     "start_time": "2022-08-09T19:09:56.525999Z"
    }
   },
   "outputs": [
    {
     "name": "stderr",
     "output_type": "stream",
     "text": [
      "WARNING: Unrecognized unit: 'day' [astroquery.ipac.nexsci.nasa_exoplanet_archive.core]\n",
      "WARNING: Unrecognized unit: 'Searth' [astroquery.ipac.nexsci.nasa_exoplanet_archive.core]\n",
      "WARNING: Unrecognized unit: 'Rjupiter' [astroquery.ipac.nexsci.nasa_exoplanet_archive.core]\n",
      "WARNING: Unrecognized unit: 'Rearth' [astroquery.ipac.nexsci.nasa_exoplanet_archive.core]\n",
      "WARNING: Unrecognized unit: 'Mjupiter' [astroquery.ipac.nexsci.nasa_exoplanet_archive.core]\n",
      "WARNING: Unrecognized unit: 'Mearth' [astroquery.ipac.nexsci.nasa_exoplanet_archive.core]\n",
      "WARNING: Unrecognized unit: 'log(Lsun)' [astroquery.ipac.nexsci.nasa_exoplanet_archive.core]\n",
      "WARNING: Unrecognized unit: 'log(cm/s**2)' [astroquery.ipac.nexsci.nasa_exoplanet_archive.core]\n"
     ]
    }
   ],
   "source": [
    "res=NasaExoplanetArchive.query_object(\"WASP-31 b\",table='ps',regularize=False)"
   ]
  },
  {
   "cell_type": "code",
   "execution_count": 7,
   "id": "f3664f8d",
   "metadata": {
    "ExecuteTime": {
     "end_time": "2022-08-09T19:10:00.741633Z",
     "start_time": "2022-08-09T19:10:00.722753Z"
    }
   },
   "outputs": [
    {
     "data": {
      "text/plain": [
       "(<Quantity [3.4      ,       nan, 3.4059095, 3.4058841, 3.4059096,\n",
       "            3.405886 , 3.405909 ] day>,\n",
       " <Quantity [          nan,           nan, 2458554.30005, 2456183.80208,\n",
       "            2455192.6887 , 2455873.86662,           nan] day>)"
      ]
     },
     "execution_count": 7,
     "metadata": {},
     "output_type": "execute_result"
    }
   ],
   "source": [
    "res['pl_orbper'], res['pl_tranmid']"
   ]
  },
  {
   "cell_type": "code",
   "execution_count": 8,
   "id": "fa64519d",
   "metadata": {
    "ExecuteTime": {
     "end_time": "2022-08-09T19:10:00.760168Z",
     "start_time": "2022-08-09T19:10:00.742453Z"
    }
   },
   "outputs": [
    {
     "data": {
      "text/plain": [
       "<TableColumns names=('pl_name','pl_letter','hostname','hd_name','hip_name','tic_id','gaia_id','default_flag','pl_refname','sy_refname','disc_pubdate','disc_year','discoverymethod','disc_locale','disc_facility','disc_instrument','disc_telescope','disc_refname','ra','rastr','dec','decstr','glon','glat','elon','elat','pl_orbper','pl_orbpererr1','pl_orbpererr2','pl_orbperlim','pl_orbperstr','pl_orblpererr1','pl_orblper','pl_orblpererr2','pl_orblperlim','pl_orblperstr','pl_orbsmax','pl_orbsmaxerr1','pl_orbsmaxerr2','pl_orbsmaxlim','pl_orbsmaxstr','pl_orbincl','pl_orbinclerr1','pl_orbinclerr2','pl_orbincllim','pl_orbinclstr','pl_orbtper','pl_orbtpererr1','pl_orbtpererr2','pl_orbtperlim','pl_orbtperstr','pl_orbeccen','pl_orbeccenerr1','pl_orbeccenerr2','pl_orbeccenlim','pl_orbeccenstr','pl_eqt','pl_eqterr1','pl_eqterr2','pl_eqtlim','pl_eqtstr','pl_occdep','pl_occdeperr1','pl_occdeperr2','pl_occdeplim','pl_occdepstr','pl_insol','pl_insolerr1','pl_insolerr2','pl_insollim','pl_insolstr','pl_dens','pl_denserr1','pl_denserr2','pl_denslim','pl_densstr','pl_trandep','pl_trandeperr1','pl_trandeperr2','pl_trandeplim','pl_trandepstr','pl_tranmid','pl_tranmiderr1','pl_tranmiderr2','pl_tranmidlim','pl_tranmidstr','pl_trandur','pl_trandurerr1','pl_trandurerr2','pl_trandurlim','pl_trandurstr','sy_kmagstr','sy_umag','sy_umagerr1','sy_umagerr2','sy_umagstr','sy_rmag','sy_rmagerr1','sy_rmagerr2','sy_rmagstr','sy_imag','sy_imagerr1','sy_imagerr2','sy_imagstr','sy_zmag','sy_zmagerr1','sy_zmagerr2','sy_zmagstr','sy_w1mag','sy_w1magerr1','sy_w1magerr2','sy_w1magstr','sy_w2mag','sy_w2magerr1','sy_w2magerr2','sy_w2magstr','sy_w3mag','sy_w3magerr1','sy_w3magerr2','sy_w3magstr','sy_w4mag','sy_w4magerr1','sy_w4magerr2','sy_w4magstr','sy_gmag','sy_gmagerr1','sy_gmagerr2','sy_gmagstr','sy_gaiamag','sy_gaiamagerr1','sy_gaiamagerr2','sy_gaiamagstr','sy_tmag','sy_tmagerr1','sy_tmagerr2','sy_tmagstr','pl_controv_flag','pl_tsystemref','st_metratio','st_spectype','sy_kepmag','sy_kepmagerr1','sy_kepmagerr2','sy_kepmagstr','st_rotp','st_rotperr1','st_rotperr2','st_rotplim','st_rotpstr','pl_projobliq','pl_projobliqerr1','pl_projobliqerr2','pl_projobliqlim','pl_projobliqstr','x','y','z','htm20','pl_rvamp','pl_rvamperr1','pl_rvamperr2','pl_rvamplim','pl_rvampstr','pl_radj','pl_radjerr1','pl_radjerr2','pl_radjlim','pl_radjstr','pl_rade','pl_radeerr1','pl_radeerr2','pl_radelim','pl_radestr','pl_ratror','pl_ratrorerr1','pl_ratrorerr2','pl_ratrorlim','pl_ratrorstr','pl_ratdor','pl_trueobliq','pl_trueobliqerr1','pl_trueobliqerr2','pl_trueobliqlim','pl_trueobliqstr','sy_icmag','sy_icmagerr1','sy_icmagerr2','sy_icmagstr','rowupdate','pl_pubdate','st_refname','releasedate','dkin_flag','pl_ratdorerr1','pl_ratdorerr2','pl_ratdorlim','pl_ratdorstr','pl_imppar','pl_impparerr1','pl_impparerr2','pl_impparlim','pl_impparstr','pl_cmassj','pl_cmassjerr1','pl_cmassjerr2','pl_cmassjlim','pl_cmassjstr','pl_cmasse','pl_cmasseerr1','pl_cmasseerr2','pl_cmasselim','pl_cmassestr','pl_massj','pl_massjerr1','pl_massjerr2','pl_massjlim','pl_massjstr','pl_masse','pl_masseerr1','pl_masseerr2','pl_masselim','pl_massestr','pl_bmassj','pl_bmassjerr1','pl_bmassjerr2','pl_bmassjlim','pl_bmassjstr','pl_bmasse','pl_bmasseerr1','pl_bmasseerr2','pl_bmasselim','pl_bmassestr','pl_bmassprov','pl_msinij','pl_msinijerr1','pl_msinijerr2','pl_msinijlim','pl_msinijstr','pl_msinie','pl_msinieerr1','pl_msinieerr2','pl_msinielim','pl_msiniestr','st_teff','st_tefferr1','st_tefferr2','st_tefflim','st_teffstr','st_met','st_meterr1','st_meterr2','st_metlim','st_metstr','st_radv','st_radverr1','st_radverr2','st_radvlim','st_radvstr','st_vsin','st_vsinerr1','st_vsinerr2','st_vsinlim','st_vsinstr','st_lum','st_lumerr1','st_lumerr2','st_lumlim','st_lumstr','st_logg','st_loggerr1','st_loggerr2','st_logglim','st_loggstr','st_age','st_ageerr1','st_ageerr2','st_agelim','st_agestr','st_mass','st_masserr1','st_masserr2','st_masslim','st_massstr','st_dens','st_denserr1','st_denserr2','st_denslim','st_densstr','st_rad','st_raderr1','st_raderr2','st_radlim','st_radstr','ttv_flag','ptv_flag','tran_flag','rv_flag','ast_flag','obm_flag','micro_flag','etv_flag','ima_flag','pul_flag','soltype','sy_snum','sy_pnum','sy_mnum','cb_flag','st_nphot','st_nrvc','st_nspec','pl_nespec','pl_ntranspec','pl_nnotes','sy_pm','sy_pmerr1','sy_pmerr2','sy_pmstr','sy_pmra','sy_pmraerr1','sy_pmraerr2','sy_pmrastr','sy_pmdec','sy_pmdecerr1','sy_pmdecerr2','sy_pmdecstr','sy_plx','sy_plxerr1','sy_plxerr2','sy_plxstr','sy_dist','sy_disterr1','sy_disterr2','sy_diststr','sy_bmag','sy_bmagerr1','sy_bmagerr2','sy_bmagstr','sy_vmag','sy_vmagerr1','sy_vmagerr2','sy_vmagstr','sy_jmag','sy_jmagerr1','sy_jmagerr2','sy_jmagstr','sy_hmag','sy_hmagerr1','sy_hmagerr2','sy_hmagstr','sy_kmag','sy_kmagerr1','sy_kmagerr2','sky_coord')>"
      ]
     },
     "execution_count": 8,
     "metadata": {},
     "output_type": "execute_result"
    }
   ],
   "source": [
    "res.columns"
   ]
  },
  {
   "cell_type": "code",
   "execution_count": 9,
   "id": "7b508103",
   "metadata": {
    "ExecuteTime": {
     "end_time": "2022-08-09T19:10:00.779053Z",
     "start_time": "2022-08-09T19:10:00.761183Z"
    }
   },
   "outputs": [
    {
     "data": {
      "text/plain": [
       "array([[           nan, 3.40000000e+00],\n",
       "       [           nan,            nan],\n",
       "       [2.45855430e+06, 3.40590950e+00],\n",
       "       [2.45618380e+06, 3.40588410e+00],\n",
       "       [2.45519269e+06, 3.40590960e+00],\n",
       "       [2.45587387e+06, 3.40588600e+00],\n",
       "       [           nan, 3.40590900e+00]])"
      ]
     },
     "execution_count": 9,
     "metadata": {},
     "output_type": "execute_result"
    }
   ],
   "source": [
    "eph=np.array((res['pl_tranmid'].value, res['pl_orbper'].value)).transpose()\n",
    "eph\n"
   ]
  },
  {
   "cell_type": "code",
   "execution_count": 10,
   "id": "280bd072",
   "metadata": {
    "ExecuteTime": {
     "end_time": "2022-08-09T19:10:00.803001Z",
     "start_time": "2022-08-09T19:10:00.783943Z"
    }
   },
   "outputs": [],
   "source": [
    "def get_midpoints(ephemeris,date):\n",
    "    '''ephermeris in the form (t0, period)\n",
    "    t0,date in JD/MJD (but both have to be the same)'''\n",
    "    tmids=[]\n",
    "    for item in ephemeris:\n",
    "        per=item[1]\n",
    "        t0=item[0]\n",
    "        \n",
    "        delta_date=date-t0\n",
    "        num_of_orbs=delta_date/per\n",
    "        tmids.append(t0+np.round(num_of_orbs,0)*per)\n",
    "    return tmids"
   ]
  },
  {
   "cell_type": "code",
   "execution_count": 11,
   "id": "f2bbfd00",
   "metadata": {
    "ExecuteTime": {
     "end_time": "2022-08-09T19:10:00.820637Z",
     "start_time": "2022-08-09T19:10:00.803902Z"
    }
   },
   "outputs": [],
   "source": [
    "tmids=get_midpoints(eph,transit_date)"
   ]
  },
  {
   "cell_type": "code",
   "execution_count": 12,
   "id": "20607373",
   "metadata": {
    "ExecuteTime": {
     "end_time": "2022-08-09T19:10:00.840244Z",
     "start_time": "2022-08-09T19:10:00.821512Z"
    }
   },
   "outputs": [
    {
     "data": {
      "text/plain": [
       "array([[       nan],\n",
       "       [       nan],\n",
       "       [-0.0005062],\n",
       "       [-0.0112706],\n",
       "       [ 0.020951 ],\n",
       "       [-0.0091742],\n",
       "       [       nan]])"
      ]
     },
     "execution_count": 12,
     "metadata": {},
     "output_type": "execute_result"
    }
   ],
   "source": [
    "tmids-np.nanmean(tmids)"
   ]
  },
  {
   "cell_type": "code",
   "execution_count": 13,
   "id": "0e9a577e",
   "metadata": {
    "ExecuteTime": {
     "end_time": "2022-08-09T19:10:00.860064Z",
     "start_time": "2022-08-09T19:10:00.841745Z"
    }
   },
   "outputs": [
    {
     "data": {
      "text/html": [
       "&lt;MaskedColumn name=&apos;pl_refname&apos; dtype=&apos;str144&apos; description=&apos;Planetary Parameter Reference&apos; length=7&gt;\n",
       "<table>\n",
       "<tr><td>&lt;a refstr=SING_ET_AL__2016 href=https://ui.adsabs.harvard.edu/abs/2016Natur.529...59S/abstract target=ref&gt;Sing et al. 2016&lt;/a&gt;</td></tr>\n",
       "<tr><td>&lt;a refstr=BARSTOW_ET_AL__2017 href=https://ui.adsabs.harvard.edu/abs/2017ApJ...834...50B/abstract target=ref&gt;Barstow et al. 2017&lt;/a&gt;</td></tr>\n",
       "<tr><td>&lt;a refstr=PATEL__AMP__ESPINOZA_2022 href=https://ui.adsabs.harvard.edu/abs/2022AJ....163..228P/abstract target=ref&gt;Patel &amp;amp; Espinoza 2022&lt;/a&gt;</td></tr>\n",
       "<tr><td>&lt;a refstr=KOKORI_ET_AL__2021 href=https://ui.adsabs.harvard.edu/abs/2021arXiv211013863K/abstract target=ref&gt;Kokori et al. 2021&lt;/a&gt;</td></tr>\n",
       "<tr><td>&lt;a refstr=ANDERSON_ET_AL__2011 href=https://ui.adsabs.harvard.edu/abs/2011A&amp;A...531A..60A/abstract target=ref&gt; Anderson et al. 2011&lt;/a&gt;</td></tr>\n",
       "<tr><td>&lt;a refstr=BONOMO_ET_AL__2017 href=https://ui.adsabs.harvard.edu/abs/2017A&amp;A...602A.107B/abstract target=ref&gt;Bonomo et al. 2017&lt;/a&gt;</td></tr>\n",
       "<tr><td>&lt;a refstr=BROWN_ET_AL__2012 href=https://ui.adsabs.harvard.edu/abs/2012MNRAS.423.1503B/abstract target=ref&gt;Brown et al. 2012&lt;/a&gt;</td></tr>\n",
       "</table>"
      ],
      "text/plain": [
       "<MaskedColumn name='pl_refname' dtype='str144' description='Planetary Parameter Reference' length=7>\n",
       "                  <a refstr=SING_ET_AL__2016 href=https://ui.adsabs.harvard.edu/abs/2016Natur.529...59S/abstract target=ref>Sing et al. 2016</a>\n",
       "            <a refstr=BARSTOW_ET_AL__2017 href=https://ui.adsabs.harvard.edu/abs/2017ApJ...834...50B/abstract target=ref>Barstow et al. 2017</a>\n",
       "<a refstr=PATEL__AMP__ESPINOZA_2022 href=https://ui.adsabs.harvard.edu/abs/2022AJ....163..228P/abstract target=ref>Patel &amp; Espinoza 2022</a>\n",
       "              <a refstr=KOKORI_ET_AL__2021 href=https://ui.adsabs.harvard.edu/abs/2021arXiv211013863K/abstract target=ref>Kokori et al. 2021</a>\n",
       "         <a refstr=ANDERSON_ET_AL__2011 href=https://ui.adsabs.harvard.edu/abs/2011A&A...531A..60A/abstract target=ref> Anderson et al. 2011</a>\n",
       "              <a refstr=BONOMO_ET_AL__2017 href=https://ui.adsabs.harvard.edu/abs/2017A&A...602A.107B/abstract target=ref>Bonomo et al. 2017</a>\n",
       "                <a refstr=BROWN_ET_AL__2012 href=https://ui.adsabs.harvard.edu/abs/2012MNRAS.423.1503B/abstract target=ref>Brown et al. 2012</a>"
      ]
     },
     "execution_count": 13,
     "metadata": {},
     "output_type": "execute_result"
    }
   ],
   "source": [
    "res['pl_refname']"
   ]
  },
  {
   "cell_type": "code",
   "execution_count": 14,
   "id": "e07da817",
   "metadata": {
    "ExecuteTime": {
     "end_time": "2022-08-09T19:10:00.879483Z",
     "start_time": "2022-08-09T19:10:00.861147Z"
    }
   },
   "outputs": [
    {
     "data": {
      "text/plain": [
       "array([[         nan],\n",
       "       [         nan],\n",
       "       [ -0.72892718],\n",
       "       [-16.22966386],\n",
       "       [ 30.16944006],\n",
       "       [-13.21084768],\n",
       "       [         nan]])"
      ]
     },
     "execution_count": 14,
     "metadata": {},
     "output_type": "execute_result"
    }
   ],
   "source": [
    "(tmids-np.nanmean(tmids))*24*60 # in minutes"
   ]
  },
  {
   "cell_type": "code",
   "execution_count": 15,
   "id": "a22d4da5",
   "metadata": {
    "ExecuteTime": {
     "end_time": "2022-08-09T19:10:00.899258Z",
     "start_time": "2022-08-09T19:10:00.880661Z"
    }
   },
   "outputs": [],
   "source": [
    "def find_issues(planet,date,threshold=10):\n",
    "    '''date in YYYY-MM-DD\n",
    "    or YYYY-MM-DDTHH:MM\n",
    "    threshold in minutes'''\n",
    "    transit_date=time.Time([date], format='isot', scale='utc').jd\n",
    "    res=NasaExoplanetArchive.query_object(planet,table='ps',regularize=False)\n",
    "    eph=np.array((res['pl_tranmid'].value, res['pl_orbper'].value)).transpose()\n",
    "    tmids=get_midpoints(eph,transit_date)\n",
    "    difs=(tmids-np.nanmean(tmids))*24*60 # in minutes\n",
    "    if (np.max(difs)-np.min(difs))>threshold:\n",
    "        print('issue with '+planet)\n",
    "        print('offsets in minutes: ',difs)\n",
    "        print('sources: ',res['pl_refname'])\n",
    "        print(' ')"
   ]
  },
  {
   "cell_type": "code",
   "execution_count": 16,
   "id": "db96a91b",
   "metadata": {
    "ExecuteTime": {
     "end_time": "2022-08-09T19:10:00.922879Z",
     "start_time": "2022-08-09T19:10:00.900154Z"
    }
   },
   "outputs": [
    {
     "data": {
      "text/plain": [
       "array([2459644.5])"
      ]
     },
     "execution_count": 16,
     "metadata": {},
     "output_type": "execute_result"
    }
   ],
   "source": [
    "transit_date=time.Time(['2022-03-06T00:00'], format='isot', scale='utc').jd\n",
    "transit_date"
   ]
  },
  {
   "cell_type": "code",
   "execution_count": 17,
   "id": "b787d2f3",
   "metadata": {
    "ExecuteTime": {
     "end_time": "2022-08-09T19:10:00.944141Z",
     "start_time": "2022-08-09T19:10:00.923768Z"
    }
   },
   "outputs": [
    {
     "name": "stdout",
     "output_type": "stream",
     "text": [
      "nan\n",
      "nan\n",
      "2458554.30005\n",
      "2456183.80208\n",
      "2455192.6887\n",
      "2455873.86662\n",
      "nan\n"
     ]
    }
   ],
   "source": [
    "for item in np.array(res['pl_tranmid'].value):\n",
    "    print(item)"
   ]
  },
  {
   "cell_type": "code",
   "execution_count": 18,
   "id": "fecd669f",
   "metadata": {
    "ExecuteTime": {
     "end_time": "2022-08-09T19:10:00.967155Z",
     "start_time": "2022-08-09T19:10:00.944952Z"
    }
   },
   "outputs": [
    {
     "data": {
      "text/plain": [
       "False"
      ]
     },
     "execution_count": 18,
     "metadata": {},
     "output_type": "execute_result"
    }
   ],
   "source": [
    "res['pl_tranmid'].value[0]==np.nan"
   ]
  },
  {
   "cell_type": "code",
   "execution_count": 19,
   "id": "f0e63b83",
   "metadata": {
    "ExecuteTime": {
     "end_time": "2022-08-09T19:10:00.988456Z",
     "start_time": "2022-08-09T19:10:00.967992Z"
    }
   },
   "outputs": [],
   "source": [
    "import math"
   ]
  },
  {
   "cell_type": "code",
   "execution_count": 20,
   "id": "d65d1cad",
   "metadata": {
    "ExecuteTime": {
     "end_time": "2022-08-09T19:10:01.007960Z",
     "start_time": "2022-08-09T19:10:00.989307Z"
    }
   },
   "outputs": [
    {
     "data": {
      "text/plain": [
       "nan"
      ]
     },
     "execution_count": 20,
     "metadata": {},
     "output_type": "execute_result"
    }
   ],
   "source": [
    "res['pl_tranmid'].value[0]"
   ]
  },
  {
   "cell_type": "code",
   "execution_count": 21,
   "id": "1d4d849c",
   "metadata": {
    "ExecuteTime": {
     "end_time": "2022-08-09T19:10:26.783218Z",
     "start_time": "2022-08-09T19:10:26.708363Z"
    }
   },
   "outputs": [
    {
     "data": {
      "text/plain": [
       "numpy.float64"
      ]
     },
     "execution_count": 21,
     "metadata": {},
     "output_type": "execute_result"
    }
   ],
   "source": [
    "type(res['pl_tranmid'].value[0])"
   ]
  },
  {
   "cell_type": "code",
   "execution_count": 22,
   "id": "07f01d9c",
   "metadata": {
    "ExecuteTime": {
     "end_time": "2022-08-09T19:10:41.449952Z",
     "start_time": "2022-08-09T19:10:41.388486Z"
    }
   },
   "outputs": [
    {
     "ename": "AttributeError",
     "evalue": "'numpy.float64' object has no attribute 'isnan'",
     "output_type": "error",
     "traceback": [
      "\u001b[0;31m---------------------------------------------------------------------------\u001b[0m",
      "\u001b[0;31mAttributeError\u001b[0m                            Traceback (most recent call last)",
      "\u001b[0;32m/var/folders/_m/jk88h8v92cj1b8hw1hl2qr1w0000gq/T/ipykernel_79625/1219664720.py\u001b[0m in \u001b[0;36m<module>\u001b[0;34m\u001b[0m\n\u001b[0;32m----> 1\u001b[0;31m \u001b[0mres\u001b[0m\u001b[0;34m[\u001b[0m\u001b[0;34m'pl_tranmid'\u001b[0m\u001b[0;34m]\u001b[0m\u001b[0;34m.\u001b[0m\u001b[0mvalue\u001b[0m\u001b[0;34m[\u001b[0m\u001b[0;36m0\u001b[0m\u001b[0;34m]\u001b[0m\u001b[0;34m.\u001b[0m\u001b[0misnan\u001b[0m\u001b[0;34m(\u001b[0m\u001b[0;34m)\u001b[0m\u001b[0;34m\u001b[0m\u001b[0;34m\u001b[0m\u001b[0m\n\u001b[0m",
      "\u001b[0;31mAttributeError\u001b[0m: 'numpy.float64' object has no attribute 'isnan'"
     ]
    }
   ],
   "source": [
    "res['pl_tranmid'].value[0]"
   ]
  },
  {
   "cell_type": "code",
   "execution_count": 23,
   "id": "b44cb20b",
   "metadata": {
    "ExecuteTime": {
     "end_time": "2022-08-09T19:10:57.835362Z",
     "start_time": "2022-08-09T19:10:57.780978Z"
    }
   },
   "outputs": [
    {
     "data": {
      "text/plain": [
       "True"
      ]
     },
     "execution_count": 23,
     "metadata": {},
     "output_type": "execute_result"
    }
   ],
   "source": [
    "np.isnan(res['pl_tranmid'].value[0])"
   ]
  },
  {
   "cell_type": "code",
   "execution_count": null,
   "id": "9213dc36",
   "metadata": {},
   "outputs": [],
   "source": []
  }
 ],
 "metadata": {
  "kernelspec": {
   "display_name": "Python 3 (ipykernel)",
   "language": "python",
   "name": "python3"
  },
  "language_info": {
   "codemirror_mode": {
    "name": "ipython",
    "version": 3
   },
   "file_extension": ".py",
   "mimetype": "text/x-python",
   "name": "python",
   "nbconvert_exporter": "python",
   "pygments_lexer": "ipython3",
   "version": "3.7.11"
  },
  "toc": {
   "base_numbering": 1,
   "nav_menu": {},
   "number_sections": true,
   "sideBar": true,
   "skip_h1_title": false,
   "title_cell": "Table of Contents",
   "title_sidebar": "Contents",
   "toc_cell": true,
   "toc_position": {},
   "toc_section_display": true,
   "toc_window_display": false
  }
 },
 "nbformat": 4,
 "nbformat_minor": 5
}
